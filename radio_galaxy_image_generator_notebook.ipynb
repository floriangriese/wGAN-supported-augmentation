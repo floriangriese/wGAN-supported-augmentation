{
 "cells": [
  {
   "cell_type": "markdown",
   "id": "9137e8ab",
   "metadata": {},
   "source": [
    "# Morphological Classification of Radio Galaxies with wGAN-supported Augmentation\n",
    "\n",
    "https://arxiv.org/abs/2212.08504"
   ]
  },
  {
   "cell_type": "code",
   "execution_count": 1,
   "id": "a14d5fff",
   "metadata": {},
   "outputs": [],
   "source": [
    "import os\n",
    "import h5py\n",
    "import random\n",
    "import numpy as np\n",
    "import torch\n",
    "import wGAN_models as models\n",
    "import torchvision.transforms as transforms\n",
    "from torchvision.datasets.utils import download_url\n",
    "import matplotlib.pyplot as plt"
   ]
  },
  {
   "cell_type": "markdown",
   "id": "bf0ad1ce",
   "metadata": {},
   "source": [
    "### Configure meta data"
   ]
  },
  {
   "cell_type": "code",
   "execution_count": 2,
   "id": "1ce55452",
   "metadata": {},
   "outputs": [],
   "source": [
    "device_str = 'cuda' if torch.cuda.is_available() else 'cpu'\n",
    "device = torch.device(device_str)"
   ]
  },
  {
   "cell_type": "code",
   "execution_count": 3,
   "id": "ebd76c55",
   "metadata": {},
   "outputs": [],
   "source": [
    "metadata = {'image_shape': [1, 128, 128],\n",
    "             'nz': 100,\n",
    "             'ngf': 64,\n",
    "             'bsize': 100}"
   ]
  },
  {
   "cell_type": "code",
   "execution_count": 4,
   "id": "fc64ca8c",
   "metadata": {},
   "outputs": [
    {
     "data": {
      "text/plain": [
       "<torch._C.Generator at 0x7f5979fb7cf0>"
      ]
     },
     "execution_count": 4,
     "metadata": {},
     "output_type": "execute_result"
    }
   ],
   "source": [
    "seed = 42\n",
    "torch.manual_seed(seed)"
   ]
  },
  {
   "cell_type": "markdown",
   "id": "8d3835ce",
   "metadata": {},
   "source": [
    "### Define number of generated images"
   ]
  },
  {
   "cell_type": "code",
   "execution_count": 5,
   "id": "af07e60a",
   "metadata": {},
   "outputs": [],
   "source": [
    "num_gen_img = 100"
   ]
  },
  {
   "cell_type": "markdown",
   "id": "bbf26eaf",
   "metadata": {},
   "source": [
    "### Download checkpoint GANs"
   ]
  },
  {
   "cell_type": "code",
   "execution_count": 6,
   "id": "d6a73a4f",
   "metadata": {},
   "outputs": [
    {
     "name": "stdout",
     "output_type": "stream",
     "text": [
      "Downloading https://syncandshare.desy.de/index.php/s/XJbDAn2yGGipzDJ/download to /home/florian/PycharmProjects/wGAN-supported-augmentation/generator_epoch_3361_iter_30250_cla0.pt\n"
     ]
    },
    {
     "name": "stderr",
     "output_type": "stream",
     "text": [
      "100.0%\n"
     ]
    },
    {
     "name": "stdout",
     "output_type": "stream",
     "text": [
      "Downloading https://syncandshare.desy.de/index.php/s/ArwnY6AetKPa9SM/download to /home/florian/PycharmProjects/wGAN-supported-augmentation/generator_epoch_3833_iter_34500_cla1.pt\n"
     ]
    },
    {
     "name": "stderr",
     "output_type": "stream",
     "text": [
      "100.0%\n"
     ]
    },
    {
     "name": "stdout",
     "output_type": "stream",
     "text": [
      "Downloading https://syncandshare.desy.de/index.php/s/PQX6KrDYGjfnqRR/download to /home/florian/PycharmProjects/wGAN-supported-augmentation/generator_epoch_1305_iter_11750_cla2.pt\n"
     ]
    },
    {
     "name": "stderr",
     "output_type": "stream",
     "text": [
      "100.0%\n"
     ]
    },
    {
     "name": "stdout",
     "output_type": "stream",
     "text": [
      "Downloading https://syncandshare.desy.de/index.php/s/HDMKN5fCp5okNBo/download to /home/florian/PycharmProjects/wGAN-supported-augmentation/generator_epoch_4416_iter_39750_cla3.pt\n"
     ]
    },
    {
     "name": "stderr",
     "output_type": "stream",
     "text": [
      "100.0%\n"
     ]
    }
   ],
   "source": [
    "urls = {\"generator_epoch_3361_iter_30250_cla0.pt\": \"https://zenodo.org/record/7685453/files/generator_epoch_3361_iter_30250_cla0.pt?download=1\",\n",
    "        \"generator_epoch_3833_iter_34500_cla1.pt\": \"https://zenodo.org/record/7685453/files/generator_epoch_3833_iter_34500_cla1.pt?download=1\",\n",
    "        \"generator_epoch_1305_iter_11750_cla2.pt\": \"https://zenodo.org/record/7685453/files/generator_epoch_1305_iter_11750_cla2.pt?download=1\",\n",
    "        \"generator_epoch_4416_iter_39750_cla3.pt\": \"https://zenodo.org/record/7685453/files/generator_epoch_4416_iter_39750_cla3.pt?download=1\",\n",
    "}\n",
    "# download file\n",
    "for key in urls.keys():\n",
    "    download_url(urls[key], os.getcwd(), key)"
   ]
  },
  {
   "cell_type": "markdown",
   "id": "1847dbea",
   "metadata": {},
   "source": [
    "### Load generators"
   ]
  },
  {
   "cell_type": "code",
   "execution_count": 7,
   "id": "ca6a4f27",
   "metadata": {},
   "outputs": [],
   "source": [
    "checkpoints = {\n",
    "            0: \"generator_epoch_3361_iter_30250_cla0.pt\",\n",
    "            1: \"generator_epoch_3833_iter_34500_cla1.pt\",\n",
    "            2: \"generator_epoch_1305_iter_11750_cla2.pt\",\n",
    "            3: \"generator_epoch_4416_iter_39750_cla3.pt\"\n",
    "        }\n",
    "generators = {k: models.Generator(metadata['nz'], 1, metadata['ngf'], 4).cpu() for k in checkpoints}\n",
    "for label, checkpoint in checkpoints.items():\n",
    "    generators[label].load_state_dict(torch.load(checkpoint, map_location=device))\n",
    "    generators[label].eval();"
   ]
  },
  {
   "cell_type": "markdown",
   "id": "dc0ee1ed",
   "metadata": {},
   "source": [
    "### Generate images"
   ]
  },
  {
   "cell_type": "code",
   "execution_count": 8,
   "id": "f734579e",
   "metadata": {},
   "outputs": [],
   "source": [
    "def get_generated_images(generators, bsize, n_gen_images, nz, device):\n",
    "    \"\"\"\n",
    "    n_gen_images has to be divisible by n_generators\n",
    "    \"\"\"\n",
    "\n",
    "    tensor_opt = {'device': device, 'dtype': torch.float, 'requires_grad': False}\n",
    "    onehot = torch.zeros(4, 4, **tensor_opt)\n",
    "    onehot = onehot.scatter_(1, torch.LongTensor([0, 1, 2, 3]).view(4, 1).to(device), 1).view(4, 4, 1, 1)\n",
    "\n",
    "    generated_images = {k: torch.Tensor() for k in generators}\n",
    "    gen_images_per_gen = n_gen_images // len(generators)\n",
    "    for label_ind in generators.keys():\n",
    "        img_counter = 0\n",
    "        while img_counter < gen_images_per_gen:\n",
    "            noise = torch.randn(bsize, nz, 1, 1, device=device, requires_grad=False)\n",
    "            labels = torch.tensor([label_ind] * bsize, device=device, requires_grad=False)\n",
    "            with torch.no_grad():\n",
    "                res = ((generators[label_ind](noise, onehot[labels]) / 2 + .5) * 255).int().cpu()\n",
    "                expected = img_counter + bsize\n",
    "                if expected > gen_images_per_gen:\n",
    "                    res = res[:gen_images_per_gen - img_counter]\n",
    "                generated_images[label_ind] = res if generated_images[label_ind].shape[0] == 0 else torch.cat(\n",
    "                    (generated_images[label_ind], res))\n",
    "                img_counter += bsize\n",
    "\n",
    "    return generated_images"
   ]
  },
  {
   "cell_type": "code",
   "execution_count": 9,
   "id": "5f805f5c",
   "metadata": {},
   "outputs": [],
   "source": [
    "res = get_generated_images(generators, metadata['nz'], num_gen_img, metadata['nz'], device)"
   ]
  },
  {
   "cell_type": "code",
   "execution_count": 10,
   "id": "1021edf9",
   "metadata": {},
   "outputs": [],
   "source": [
    "gen_imgs = {k: torch.vstack([z for z in v]) for k,v in res.items()}"
   ]
  },
  {
   "cell_type": "markdown",
   "id": "5c7ed02f",
   "metadata": {},
   "source": [
    "### Define threshold for each class\n",
    "\n",
    "low value -> less pixels with intensity values within the image\n",
    "\n",
    "high value -> more pixel with intensity values within the image (more complex galaxies)\n"
   ]
  },
  {
   "cell_type": "code",
   "execution_count": 11,
   "id": "4a02b564",
   "metadata": {},
   "outputs": [],
   "source": [
    "thresholds = {\n",
    "    0: 7500,  # 0,7500, 15000\n",
    "    1: 7500,  # , 0, 7500 15000\n",
    "    2: 2500,  # 0, 2500,5000\n",
    "    3: 7500  # 0, 7500,15000\n",
    "}"
   ]
  },
  {
   "cell_type": "code",
   "execution_count": 12,
   "id": "6235a27b",
   "metadata": {},
   "outputs": [],
   "source": [
    "gen_sums = {k: v.sum((1,2)) for k,v in gen_imgs.items()}"
   ]
  },
  {
   "cell_type": "code",
   "execution_count": 13,
   "id": "1248019a",
   "metadata": {},
   "outputs": [],
   "source": [
    "thresh_gen_images = {k: gen_imgs[k][gen_sum > thresholds[k]] for k, gen_sum in gen_sums.items()}\n",
    "thresh_gen_indices = {k: range(len(thresh_gen_images[k])) for k in range(4)}"
   ]
  },
  {
   "cell_type": "code",
   "execution_count": 14,
   "id": "3bd47f48",
   "metadata": {},
   "outputs": [],
   "source": [
    "tg0 = thresh_gen_images[0][thresh_gen_indices[0]].view(thresh_gen_images[0].size())\n",
    "tg1 = thresh_gen_images[1][thresh_gen_indices[1]].view(thresh_gen_images[1].size())\n",
    "tg2 = thresh_gen_images[2][thresh_gen_indices[2]].view(thresh_gen_images[2].size())\n",
    "tg3 = thresh_gen_images[3][thresh_gen_indices[3]].view(thresh_gen_images[3].size())"
   ]
  },
  {
   "cell_type": "markdown",
   "id": "5b93dc2d",
   "metadata": {},
   "source": [
    "## FRI"
   ]
  },
  {
   "cell_type": "code",
   "execution_count": 15,
   "id": "792b8c8a",
   "metadata": {},
   "outputs": [
    {
     "data": {
      "text/plain": [
       "<matplotlib.image.AxesImage at 0x7f58d57aa7a0>"
      ]
     },
     "execution_count": 15,
     "metadata": {},
     "output_type": "execute_result"
    },
    {
     "data": {
      "image/png": "[encoded data removed]",
      "text/plain": [
       "<Figure size 640x480 with 1 Axes>"
      ]
     },
     "metadata": {},
     "output_type": "display_data"
    }
   ],
   "source": [
    "fri_gen_ind=0\n",
    "plt.imshow(tg0[fri_gen_ind].cpu().detach().numpy(),cmap=\"gray\")"
   ]
  },
  {
   "cell_type": "markdown",
   "id": "2ffd403e",
   "metadata": {},
   "source": [
    "## FRII"
   ]
  },
  {
   "cell_type": "code",
   "execution_count": 16,
   "id": "29b056f8",
   "metadata": {},
   "outputs": [
    {
     "data": {
      "text/plain": [
       "<matplotlib.image.AxesImage at 0x7f58c811e0b0>"
      ]
     },
     "execution_count": 16,
     "metadata": {},
     "output_type": "execute_result"
    },
    {
     "data": {
      "image/png": "[encoded data removed]",
      "text/plain": [
       "<Figure size 640x480 with 1 Axes>"
      ]
     },
     "metadata": {},
     "output_type": "display_data"
    }
   ],
   "source": [
    "frii_gen_ind=0\n",
    "plt.imshow(tg1[frii_gen_ind].cpu().detach().numpy(),cmap=\"gray\")"
   ]
  },
  {
   "cell_type": "markdown",
   "id": "f85e64fa",
   "metadata": {},
   "source": [
    "## Compact"
   ]
  },
  {
   "cell_type": "code",
   "execution_count": 17,
   "id": "77b0d144",
   "metadata": {},
   "outputs": [
    {
     "data": {
      "text/plain": [
       "<matplotlib.image.AxesImage at 0x7f58c7f93df0>"
      ]
     },
     "execution_count": 17,
     "metadata": {},
     "output_type": "execute_result"
    },
    {
     "data": {
      "image/png": "[encoded data removed]",
      "text/plain": [
       "<Figure size 640x480 with 1 Axes>"
      ]
     },
     "metadata": {},
     "output_type": "display_data"
    }
   ],
   "source": [
    "compact_gen_ind=0\n",
    "plt.imshow(tg2[compact_gen_ind].cpu().detach().numpy(),cmap=\"gray\")"
   ]
  },
  {
   "cell_type": "markdown",
   "id": "858882b5",
   "metadata": {},
   "source": [
    "## Bent"
   ]
  },
  {
   "cell_type": "code",
   "execution_count": 18,
   "id": "c04c79fc",
   "metadata": {},
   "outputs": [
    {
     "data": {
      "text/plain": [
       "<matplotlib.image.AxesImage at 0x7f58c8021630>"
      ]
     },
     "execution_count": 18,
     "metadata": {},
     "output_type": "execute_result"
    },
    {
     "data": {
      "image/png": "[encoded data removed]",
      "text/plain": [
       "<Figure size 640x480 with 1 Axes>"
      ]
     },
     "metadata": {},
     "output_type": "display_data"
    }
   ],
   "source": [
    "bent_gen_ind=0\n",
    "plt.imshow(tg3[bent_gen_ind].cpu().detach().numpy(),cmap=\"gray\")"
   ]
  },
  {
   "cell_type": "code",
   "execution_count": null,
   "id": "e2e6c6a5",
   "metadata": {},
   "outputs": [],
   "source": []
  }
 ],
 "metadata": {
  "kernelspec": {
   "display_name": "Python 3 (ipykernel)",
   "language": "python",
   "name": "python3"
  },
  "language_info": {
   "codemirror_mode": {
    "name": "ipython",
    "version": 3
   },
   "file_extension": ".py",
   "mimetype": "text/x-python",
   "name": "python",
   "nbconvert_exporter": "python",
   "pygments_lexer": "ipython3",
   "version": "3.10.6"
  }
 },
 "nbformat": 4,
 "nbformat_minor": 5
}